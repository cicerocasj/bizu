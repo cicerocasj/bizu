{
 "cells": [
  {
   "cell_type": "code",
   "execution_count": 1,
   "metadata": {},
   "outputs": [],
   "source": [
    "import requests\n",
    "import json\n",
    "import codecs\n",
    "from bs4 import BeautifulSoup\n",
    "import pandas as pd"
   ]
  },
  {
   "cell_type": "code",
   "execution_count": 47,
   "metadata": {},
   "outputs": [],
   "source": [
    "%matplotlib inline"
   ]
  },
  {
   "cell_type": "code",
   "execution_count": 2,
   "metadata": {},
   "outputs": [],
   "source": [
    "api_uri ='https://sp.olx.com.br/vale-do-paraiba-e-litoral-norte/vale-do-paraiba/autos-e-pecas/carros-vans-e-utilitarios'"
   ]
  },
  {
   "cell_type": "code",
   "execution_count": 3,
   "metadata": {},
   "outputs": [],
   "source": [
    "dummy_product_names = []\n",
    "product_names = []"
   ]
  },
  {
   "cell_type": "code",
   "execution_count": null,
   "metadata": {},
   "outputs": [],
   "source": []
  },
  {
   "cell_type": "code",
   "execution_count": 58,
   "metadata": {},
   "outputs": [],
   "source": [
    "def toint(x):\n",
    "    try:\n",
    "        return int(x)\n",
    "    except:\n",
    "        return 0\n",
    "def get_km(x):\n",
    "    try:\n",
    "        return int(x.split('km |')[0].replace('.', ''))\n",
    "    except:\n",
    "        return 0\n",
    "def get_dados(lista):\n",
    "    dados = []\n",
    "    for label in lista.find_all('li'):\n",
    "        nome, price, desc, ano, fotos, km = '', '', '', '','', ''\n",
    "        item = label.find('h2', {'class': 'OLXad-list-title'})\n",
    "        if item:\n",
    "            nome = item.text.strip()\n",
    "            if nome:\n",
    "                ano = nome.split('-')[-1]\n",
    "        item = label.find('p', {'class': 'OLXad-list-price'})\n",
    "        if item:\n",
    "            price = item.text.strip().replace('R$', '').replace('.', '')\n",
    "        item = label.find('p', {'class': 'text detail-specific'})\n",
    "        if item:\n",
    "            desc = item.text.strip().replace('\\n', '').replace('\\t', '')\n",
    "            km = get_km(desc)\n",
    "        item = label.find('div', {'class': 'OLXad-list-image-counter'})\n",
    "        if item:\n",
    "            d = item.text.strip().split('\\t')\n",
    "            fotos = d[-1] if d else 0\n",
    "        dados.append([nome, price, desc, ano, fotos, km])\n",
    "    return dados   "
   ]
  },
  {
   "cell_type": "code",
   "execution_count": 27,
   "metadata": {},
   "outputs": [],
   "source": [
    "url = 'https://sp.olx.com.br/vale-do-paraiba-e-litoral-norte/vale-do-paraiba/autos-e-pecas/carros-vans-e-utilitarios'"
   ]
  },
  {
   "cell_type": "code",
   "execution_count": 40,
   "metadata": {},
   "outputs": [],
   "source": [
    "lista_carros = []\n",
    "for page in range(101):\n",
    "    conteudo = requests.get(url, params={'o': page}, headers={\"User-Agent\": \"Mozilla/5.0 (Windows NT 10.0; WOW64; rv:55.0) Gecko/20100101 Firefox/55.0\"}).content\n",
    "    soup = BeautifulSoup(conteudo, \"html.parser\")\n",
    "    lista = soup.find('ul', {'id': 'main-ad-list'})\n",
    "    lista_carros.extend(get_dados(lista))"
   ]
  },
  {
   "cell_type": "code",
   "execution_count": 116,
   "metadata": {},
   "outputs": [],
   "source": [
    "carros = pd.DataFrame(lista_carros, columns=['nome', 'price', 'desc', 'ano', 'fotos', 'km'])"
   ]
  },
  {
   "cell_type": "code",
   "execution_count": 117,
   "metadata": {},
   "outputs": [
    {
     "data": {
      "text/plain": [
       "(5454, 6)"
      ]
     },
     "execution_count": 117,
     "metadata": {},
     "output_type": "execute_result"
    }
   ],
   "source": [
    "carros.shape"
   ]
  },
  {
   "cell_type": "code",
   "execution_count": 118,
   "metadata": {},
   "outputs": [],
   "source": [
    "carros['price'] = carros['price'].apply(toint)\n",
    "carros['ano'] = carros['ano'].apply(toint)\n",
    "carros['fotos'] = carros['fotos'].apply(toint)\n",
    "carros['km'] = carros['km'].apply(toint)"
   ]
  },
  {
   "cell_type": "code",
   "execution_count": 119,
   "metadata": {},
   "outputs": [],
   "source": [
    "carros.to_csv('/tmp/carros.csv', index=False)"
   ]
  },
  {
   "cell_type": "code",
   "execution_count": 120,
   "metadata": {},
   "outputs": [
    {
     "data": {
      "text/html": [
       "<div>\n",
       "<style scoped>\n",
       "    .dataframe tbody tr th:only-of-type {\n",
       "        vertical-align: middle;\n",
       "    }\n",
       "\n",
       "    .dataframe tbody tr th {\n",
       "        vertical-align: top;\n",
       "    }\n",
       "\n",
       "    .dataframe thead th {\n",
       "        text-align: right;\n",
       "    }\n",
       "</style>\n",
       "<table border=\"1\" class=\"dataframe\">\n",
       "  <thead>\n",
       "    <tr style=\"text-align: right;\">\n",
       "      <th></th>\n",
       "      <th>nome</th>\n",
       "      <th>price</th>\n",
       "      <th>desc</th>\n",
       "      <th>ano</th>\n",
       "      <th>fotos</th>\n",
       "      <th>km</th>\n",
       "    </tr>\n",
       "  </thead>\n",
       "  <tbody>\n",
       "    <tr>\n",
       "      <th>249</th>\n",
       "      <td>(OP) Hyundai Hb20s 1.6 - Completo - Baixo km -...</td>\n",
       "      <td>0</td>\n",
       "      <td>0 km | Câmbio: automático | Flex</td>\n",
       "      <td>2014</td>\n",
       "      <td>5</td>\n",
       "      <td>0</td>\n",
       "    </tr>\n",
       "    <tr>\n",
       "      <th>1531</th>\n",
       "      <td>/Hyundai Hb20s Premium 1.6 - Completo + Multim...</td>\n",
       "      <td>0</td>\n",
       "      <td>0 km</td>\n",
       "      <td>2014</td>\n",
       "      <td>5</td>\n",
       "      <td>0</td>\n",
       "    </tr>\n",
       "    <tr>\n",
       "      <th>2421</th>\n",
       "      <td>R HB20S sedã 2014 Completo - 2014</td>\n",
       "      <td>0</td>\n",
       "      <td>0 km | Câmbio: manual | Flex</td>\n",
       "      <td>2014</td>\n",
       "      <td>3</td>\n",
       "      <td>0</td>\n",
       "    </tr>\n",
       "    <tr>\n",
       "      <th>3617</th>\n",
       "      <td>Hyundai Hb20s 1.0 Comfort Style 12v - 2014</td>\n",
       "      <td>33990</td>\n",
       "      <td>71.147 km | Câmbio: manual | Flex</td>\n",
       "      <td>2014</td>\n",
       "      <td>8</td>\n",
       "      <td>71147</td>\n",
       "    </tr>\n",
       "    <tr>\n",
       "      <th>4729</th>\n",
       "      <td>Vendo HB20S Confort Plus 1.0 top - Analiso Tro...</td>\n",
       "      <td>34500</td>\n",
       "      <td>80 km | Câmbio: manual | Flex</td>\n",
       "      <td>2014</td>\n",
       "      <td>3</td>\n",
       "      <td>80</td>\n",
       "    </tr>\n",
       "    <tr>\n",
       "      <th>3637</th>\n",
       "      <td>Hb20S confort plus 1.0 flex 2014 completo - 2014</td>\n",
       "      <td>36900</td>\n",
       "      <td>116.000 km | Câmbio: manual | Flex</td>\n",
       "      <td>2014</td>\n",
       "      <td>18</td>\n",
       "      <td>116000</td>\n",
       "    </tr>\n",
       "    <tr>\n",
       "      <th>4769</th>\n",
       "      <td>Hyundai Hb20s confort plus 1.0 flex completo i...</td>\n",
       "      <td>36900</td>\n",
       "      <td>108.000 km | Câmbio: manual | Flex</td>\n",
       "      <td>2014</td>\n",
       "      <td>18</td>\n",
       "      <td>108000</td>\n",
       "    </tr>\n",
       "    <tr>\n",
       "      <th>893</th>\n",
       "      <td>HB20S 1.6 2014 Completo Abx Tabela - 2014</td>\n",
       "      <td>38000</td>\n",
       "      <td>82.000 kmmanualFlex</td>\n",
       "      <td>2014</td>\n",
       "      <td>10</td>\n",
       "      <td>0</td>\n",
       "    </tr>\n",
       "    <tr>\n",
       "      <th>392</th>\n",
       "      <td>Hyundai HB20S Comfort Plus 1.6 - 2014</td>\n",
       "      <td>39500</td>\n",
       "      <td>85.000 kmmanualFlex</td>\n",
       "      <td>2014</td>\n",
       "      <td>5</td>\n",
       "      <td>0</td>\n",
       "    </tr>\n",
       "    <tr>\n",
       "      <th>3709</th>\n",
       "      <td>HB20s 1.6 2014 - 2014</td>\n",
       "      <td>39900</td>\n",
       "      <td>102.821 km | Câmbio: manual | Flex</td>\n",
       "      <td>2014</td>\n",
       "      <td>6</td>\n",
       "      <td>102821</td>\n",
       "    </tr>\n",
       "    <tr>\n",
       "      <th>1903</th>\n",
       "      <td>Hb20s comfort 1.6 flex completo 16v 2014 - 2014</td>\n",
       "      <td>41500</td>\n",
       "      <td>140.000 km | Câmbio: manual | Flex</td>\n",
       "      <td>2014</td>\n",
       "      <td>10</td>\n",
       "      <td>140000</td>\n",
       "    </tr>\n",
       "  </tbody>\n",
       "</table>\n",
       "</div>"
      ],
      "text/plain": [
       "                                                   nome  price  \\\n",
       "249   (OP) Hyundai Hb20s 1.6 - Completo - Baixo km -...      0   \n",
       "1531  /Hyundai Hb20s Premium 1.6 - Completo + Multim...      0   \n",
       "2421                  R HB20S sedã 2014 Completo - 2014      0   \n",
       "3617         Hyundai Hb20s 1.0 Comfort Style 12v - 2014  33990   \n",
       "4729  Vendo HB20S Confort Plus 1.0 top - Analiso Tro...  34500   \n",
       "3637   Hb20S confort plus 1.0 flex 2014 completo - 2014  36900   \n",
       "4769  Hyundai Hb20s confort plus 1.0 flex completo i...  36900   \n",
       "893           HB20S 1.6 2014 Completo Abx Tabela - 2014  38000   \n",
       "392               Hyundai HB20S Comfort Plus 1.6 - 2014  39500   \n",
       "3709                              HB20s 1.6 2014 - 2014  39900   \n",
       "1903    Hb20s comfort 1.6 flex completo 16v 2014 - 2014  41500   \n",
       "\n",
       "                                    desc   ano  fotos      km  \n",
       "249     0 km | Câmbio: automático | Flex  2014      5       0  \n",
       "1531                                0 km  2014      5       0  \n",
       "2421        0 km | Câmbio: manual | Flex  2014      3       0  \n",
       "3617   71.147 km | Câmbio: manual | Flex  2014      8   71147  \n",
       "4729       80 km | Câmbio: manual | Flex  2014      3      80  \n",
       "3637  116.000 km | Câmbio: manual | Flex  2014     18  116000  \n",
       "4769  108.000 km | Câmbio: manual | Flex  2014     18  108000  \n",
       "893                  82.000 kmmanualFlex  2014     10       0  \n",
       "392                  85.000 kmmanualFlex  2014      5       0  \n",
       "3709  102.821 km | Câmbio: manual | Flex  2014      6  102821  \n",
       "1903  140.000 km | Câmbio: manual | Flex  2014     10  140000  "
      ]
     },
     "execution_count": 120,
     "metadata": {},
     "output_type": "execute_result"
    }
   ],
   "source": [
    "carros[(carros.ano==2014) & (carros.nome.str.lower().str.contains('hb20s'))].sort_values('price')"
   ]
  }
 ],
 "metadata": {
  "kernelspec": {
   "display_name": "Python 3",
   "language": "python",
   "name": "python3"
  },
  "language_info": {
   "codemirror_mode": {
    "name": "ipython",
    "version": 3
   },
   "file_extension": ".py",
   "mimetype": "text/x-python",
   "name": "python",
   "nbconvert_exporter": "python",
   "pygments_lexer": "ipython3",
   "version": "3.7.3"
  }
 },
 "nbformat": 4,
 "nbformat_minor": 2
}
