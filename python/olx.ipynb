{
 "cells": [
  {
   "cell_type": "code",
   "execution_count": 44,
   "metadata": {},
   "outputs": [],
   "source": [
    "import requests\n",
    "import json\n",
    "import codecs\n",
    "from bs4 import BeautifulSoup\n",
    "import pandas as pd"
   ]
  },
  {
   "cell_type": "code",
   "execution_count": 6,
   "metadata": {},
   "outputs": [],
   "source": [
    "api_uri ='https://sp.olx.com.br/vale-do-paraiba-e-litoral-norte/vale-do-paraiba/autos-e-pecas/carros-vans-e-utilitarios'"
   ]
  },
  {
   "cell_type": "code",
   "execution_count": 7,
   "metadata": {},
   "outputs": [],
   "source": [
    "dummy_product_names = []\n",
    "product_names = []"
   ]
  },
  {
   "cell_type": "code",
   "execution_count": 112,
   "metadata": {},
   "outputs": [],
   "source": [
    "def get_dados(lista):\n",
    "    dados = []\n",
    "    for label in lista.find_all('li'):\n",
    "        nome, price, desc, ano, fotos = '', '', '', '',''\n",
    "        item = label.find('h2', {'class': 'OLXad-list-title'})\n",
    "        if item:\n",
    "            nome = item.text.strip()\n",
    "            if nome:\n",
    "                ano = nome.split('-')[-1]\n",
    "        item = label.find('p', {'class': 'OLXad-list-price'})\n",
    "        if item:\n",
    "            price = item.text.strip().replace('R$', '').replace('.', '')\n",
    "        item = label.find('p', {'class': 'text detail-specific'})\n",
    "        if item:\n",
    "            desc = item.text.strip().replace('\\n', '').replace('\\t', '')\n",
    "        item = label.find('div', {'class': 'OLXad-list-image-counter'})\n",
    "        if item:\n",
    "            d = item.text.strip().split('\\t')\n",
    "            fotos = d[-1] if d else 0\n",
    "        dados.append([nome, price, desc, ano, fotos])\n",
    "    return dados"
   ]
  },
  {
   "cell_type": "code",
   "execution_count": 113,
   "metadata": {},
   "outputs": [],
   "source": [
    "url = 'https://sp.olx.com.br/vale-do-paraiba-e-litoral-norte/vale-do-paraiba/autos-e-pecas/carros-vans-e-utilitarios'"
   ]
  },
  {
   "cell_type": "code",
   "execution_count": 119,
   "metadata": {},
   "outputs": [],
   "source": [
    "lista_carros = []\n",
    "for page in range(101):\n",
    "    conteudo = requests.get(url, params={'o': 1}, headers={\"User-Agent\": \"Mozilla/5.0 (Windows NT 10.0; WOW64; rv:55.0) Gecko/20100101 Firefox/55.0\"}).content\n",
    "    soup = BeautifulSoup(conteudo, \"html.parser\")\n",
    "    lista = soup.find('ul', {'id': 'main-ad-list'})\n",
    "    lista_carros.extend(get_dados(lista))"
   ]
  },
  {
   "cell_type": "code",
   "execution_count": 120,
   "metadata": {},
   "outputs": [],
   "source": [
    "carros = pd.DataFrame(lista_carros, columns=['nome', 'price', 'desc', 'ano', 'fotos'])"
   ]
  },
  {
   "cell_type": "code",
   "execution_count": 121,
   "metadata": {},
   "outputs": [
    {
     "data": {
      "text/plain": [
       "(5454, 5)"
      ]
     },
     "execution_count": 121,
     "metadata": {},
     "output_type": "execute_result"
    }
   ],
   "source": [
    "carros.shape"
   ]
  },
  {
   "cell_type": "code",
   "execution_count": 122,
   "metadata": {},
   "outputs": [],
   "source": [
    "carros['price'] = carros['price'].apply(lambda x: int(x) if x else 0)\n",
    "carros['ano'] = carros['ano'].apply(lambda x: int(x) if x else 0)\n",
    "carros['fotos'] = carros['fotos'].apply(lambda x: int(x) if x else 0)"
   ]
  },
  {
   "cell_type": "code",
   "execution_count": 123,
   "metadata": {},
   "outputs": [
    {
     "data": {
      "text/html": [
       "<div>\n",
       "<style scoped>\n",
       "    .dataframe tbody tr th:only-of-type {\n",
       "        vertical-align: middle;\n",
       "    }\n",
       "\n",
       "    .dataframe tbody tr th {\n",
       "        vertical-align: top;\n",
       "    }\n",
       "\n",
       "    .dataframe thead th {\n",
       "        text-align: right;\n",
       "    }\n",
       "</style>\n",
       "<table border=\"1\" class=\"dataframe\">\n",
       "  <thead>\n",
       "    <tr style=\"text-align: right;\">\n",
       "      <th></th>\n",
       "      <th>nome</th>\n",
       "      <th>price</th>\n",
       "      <th>desc</th>\n",
       "      <th>ano</th>\n",
       "      <th>fotos</th>\n",
       "    </tr>\n",
       "  </thead>\n",
       "  <tbody>\n",
       "    <tr>\n",
       "      <th>0</th>\n",
       "      <td>Venda ou troca - 2012</td>\n",
       "      <td>22000</td>\n",
       "      <td>190.000 km | Câmbio: manual | Flex</td>\n",
       "      <td>2012</td>\n",
       "      <td>3</td>\n",
       "    </tr>\n",
       "    <tr>\n",
       "      <th>1</th>\n",
       "      <td>Raridade! fiesta 1.6 completo só com 40.000,km...</td>\n",
       "      <td>24900</td>\n",
       "      <td>40.000 km | Câmbio: manual | Flex</td>\n",
       "      <td>2013</td>\n",
       "      <td>1</td>\n",
       "    </tr>\n",
       "    <tr>\n",
       "      <th>2</th>\n",
       "      <td></td>\n",
       "      <td>0</td>\n",
       "      <td></td>\n",
       "      <td>0</td>\n",
       "      <td>0</td>\n",
       "    </tr>\n",
       "    <tr>\n",
       "      <th>3</th>\n",
       "      <td>C3 tendance!!!impecável - 2013</td>\n",
       "      <td>31900</td>\n",
       "      <td>111.000 km | Câmbio: manual | Flex</td>\n",
       "      <td>2013</td>\n",
       "      <td>3</td>\n",
       "    </tr>\n",
       "    <tr>\n",
       "      <th>4</th>\n",
       "      <td>Polo 2003 gasolina 1.6 - 2003</td>\n",
       "      <td>15500</td>\n",
       "      <td>106.000 km | Câmbio: manual | Gasolina</td>\n",
       "      <td>2003</td>\n",
       "      <td>6</td>\n",
       "    </tr>\n",
       "  </tbody>\n",
       "</table>\n",
       "</div>"
      ],
      "text/plain": [
       "                                                nome  price  \\\n",
       "0                              Venda ou troca - 2012  22000   \n",
       "1  Raridade! fiesta 1.6 completo só com 40.000,km...  24900   \n",
       "2                                                         0   \n",
       "3                     C3 tendance!!!impecável - 2013  31900   \n",
       "4                      Polo 2003 gasolina 1.6 - 2003  15500   \n",
       "\n",
       "                                     desc   ano  fotos  \n",
       "0      190.000 km | Câmbio: manual | Flex  2012      3  \n",
       "1       40.000 km | Câmbio: manual | Flex  2013      1  \n",
       "2                                             0      0  \n",
       "3      111.000 km | Câmbio: manual | Flex  2013      3  \n",
       "4  106.000 km | Câmbio: manual | Gasolina  2003      6  "
      ]
     },
     "execution_count": 123,
     "metadata": {},
     "output_type": "execute_result"
    }
   ],
   "source": [
    "carros.head()"
   ]
  },
  {
   "cell_type": "code",
   "execution_count": null,
   "metadata": {},
   "outputs": [],
   "source": []
  }
 ],
 "metadata": {
  "kernelspec": {
   "display_name": "Python 3",
   "language": "python",
   "name": "python3"
  },
  "language_info": {
   "codemirror_mode": {
    "name": "ipython",
    "version": 3
   },
   "file_extension": ".py",
   "mimetype": "text/x-python",
   "name": "python",
   "nbconvert_exporter": "python",
   "pygments_lexer": "ipython3",
   "version": "3.7.3"
  }
 },
 "nbformat": 4,
 "nbformat_minor": 2
}
